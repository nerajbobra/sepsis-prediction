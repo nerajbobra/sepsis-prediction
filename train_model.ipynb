{
 "cells": [
  {
   "cell_type": "markdown",
   "metadata": {},
   "source": [
    "## Train Model\n",
    "\n",
    "This notebook defines the model, trains it, and then evaluates it on the validation and test sets"
   ]
  },
  {
   "cell_type": "markdown",
   "metadata": {},
   "source": [
    "Import libraries"
   ]
  },
  {
   "cell_type": "code",
   "execution_count": 1,
   "metadata": {},
   "outputs": [
    {
     "name": "stderr",
     "output_type": "stream",
     "text": [
      "Using TensorFlow backend.\n"
     ]
    }
   ],
   "source": [
    "import numpy as np\n",
    "from keras.models import Sequential\n",
    "from keras.layers import LSTM\n",
    "from keras.layers import Dense\n",
    "from keras.regularizers import l2\n",
    "from keras.layers import TimeDistributed, Bidirectional, BatchNormalization, Dropout, Input, Add, Masking\n",
    "from keras import Model\n",
    "import pdb\n",
    "import pandas as pd\n",
    "from keras.callbacks import EarlyStopping\n",
    "import matplotlib.pyplot as plt\n",
    "from tensorflow.keras.utils import to_categorical\n",
    "from keras.models import load_model\n",
    "from sklearn.metrics import confusion_matrix\n",
    "from keras.callbacks import ModelCheckpoint\n",
    "import glob\n",
    "import sys\n",
    "from sklearn.metrics import auc\n",
    "import pickle"
   ]
  },
  {
   "cell_type": "markdown",
   "metadata": {},
   "source": [
    "Define some constants related to the model"
   ]
  },
  {
   "cell_type": "code",
   "execution_count": 2,
   "metadata": {},
   "outputs": [],
   "source": [
    "BATCH_SIZE = 64\n",
    "INPUT_SEQ_LEN_MODEL1 = 10\n",
    "INPUT_NUM_CH_MODEL1 = 5\n",
    "INPUT_FEATS_MODEL2 = 33"
   ]
  },
  {
   "cell_type": "markdown",
   "metadata": {},
   "source": [
    "Define a function to calculate the ROC"
   ]
  },
  {
   "cell_type": "code",
   "execution_count": 4,
   "metadata": {},
   "outputs": [],
   "source": [
    "def roc(predictions, true, filename):\n",
    "    predictions = predictions.flatten()\n",
    "    true = true.flatten()\n",
    "\n",
    "    thresh_vals = np.linspace(np.min(predictions), np.max(predictions), 50)\n",
    "    results = []\n",
    "    for thresh in thresh_vals:\n",
    "        tmp_predictions = (predictions > thresh).astype(int)\n",
    "        tn, fp, fn, tp = confusion_matrix(true, tmp_predictions).ravel()\n",
    "        tpr = tp/(tp+fn)\n",
    "        fpr = fp/(tn+fp)\n",
    "        acc = (tp+tn)/(tn+fp+fn+tp)\n",
    "\n",
    "        tmp_dict = {'acc': acc, 'tpr': tpr, 'fpr': fpr, 'thresh': thresh}\n",
    "        results.append(tmp_dict)\n",
    "\n",
    "    results = pd.DataFrame(results)\n",
    "    results = results.sort_values(by='thresh', ascending=False)\n",
    "    \n",
    "    #calculate the AUC\n",
    "    AUC = auc(results['fpr'].values, results['tpr'].values)\n",
    "\n",
    "    plt.figure(figsize=(10,6))\n",
    "    plt.plot(results['fpr'], results['tpr'], '*-')\n",
    "    plt.xlabel('FPR')\n",
    "    plt.ylabel('TPR')\n",
    "    plt.title('ROC\\nAUC=%.2f' % AUC)\n",
    "    plt.tight_layout()\n",
    "    plt.savefig('plots/ROC_%s.png' % filename, dpi=250)\n",
    "    plt.show()\n",
    "\n",
    "    results = results.sort_values(by='acc', ascending=False)\n",
    "    final_thresh = results.head(1)['thresh'].values[0]\n",
    "\n",
    "    return results, final_thresh\n"
   ]
  },
  {
   "cell_type": "markdown",
   "metadata": {},
   "source": [
    "Load the data and set up the train, validation, and test sets"
   ]
  },
  {
   "cell_type": "code",
   "execution_count": 5,
   "metadata": {
    "scrolled": false
   },
   "outputs": [],
   "source": [
    "#load the training data\n",
    "train = pd.read_pickle('train.pkl').reset_index(drop=True)\n",
    "\n",
    "#define the validation set as 15% of the training set\n",
    "N = len(train)\n",
    "train = train.sample(frac=1).reset_index(drop=True)\n",
    "val = train[:int(N*0.2)]\n",
    "train = train[int(N*0.2):]\n",
    "\n",
    "#separate out the training data\n",
    "#note that input data for LSTM should be in the format of (number_samples, sequence_len, num_channels)\n",
    "y_train = np.asarray(list(train['label']))\n",
    "y_train = to_categorical(y_train)\n",
    "X_train_cont = np.asarray(list(train['X_cont'].values))\n",
    "X_train_cat = train.drop(['X_cont', 'label'], axis=1)\n",
    "\n",
    "#for the mask layer, any NaN values need to be replaced by a unique value. use the constant np.pi\n",
    "X_train_cat[X_train_cat.isna()] = np.pi\n",
    "X_train_cat = np.asarray(list(X_train_cat.values))\n",
    "\n",
    "#separate out the training data\n",
    "y_val = np.asarray(list(val['label']))\n",
    "y_val = to_categorical(y_val)\n",
    "X_val_cont = np.asarray(list(val['X_cont'].values))\n",
    "X_val_cat = val.drop(['X_cont', 'label'], axis=1)\n",
    "\n",
    "#replace NaN with pi\n",
    "X_val_cat[X_val_cat.isna()] = np.pi\n",
    "X_val_cat = np.asarray(list(X_val_cat.values))\n",
    "\n",
    "#load the test data\n",
    "test = pd.read_pickle('test.pkl')\n",
    "y_test = np.asarray(list(test['label']))\n",
    "y_test = to_categorical(y_test)\n",
    "X_test_cont = np.asarray(list(test['X_cont'].values))\n",
    "X_test_cat = test.drop(['X_cont', 'label'], axis=1)\n",
    "\n",
    "#replace NaN with pi\n",
    "X_test_cat[X_test_cat.isna()] = np.pi\n",
    "X_test_cat = np.asarray(list(X_test_cat.values))\n"
   ]
  },
  {
   "cell_type": "markdown",
   "metadata": {},
   "source": [
    "Calculate the class weights"
   ]
  },
  {
   "cell_type": "code",
   "execution_count": 6,
   "metadata": {},
   "outputs": [
    {
     "name": "stdout",
     "output_type": "stream",
     "text": [
      "class weights -- no sepsis: 1.0, sepsis: 54.361174458380844\n"
     ]
    }
   ],
   "source": [
    "count_class_0 = np.sum(y_train[:,1].astype(int)==0)\n",
    "count_class_1 = np.sum(y_train[:, 1].astype(int) == 1)\n",
    "max_class_counts = np.max((count_class_0, count_class_1))\n",
    "class_weights = {0: max_class_counts/count_class_0, 1: max_class_counts/count_class_1}\n",
    "print('class weights -- no sepsis: {}, sepsis: {}'.format(class_weights[0], class_weights[1]))\n"
   ]
  },
  {
   "cell_type": "markdown",
   "metadata": {},
   "source": [
    "Define the model using the functional API"
   ]
  },
  {
   "cell_type": "code",
   "execution_count": 7,
   "metadata": {},
   "outputs": [
    {
     "name": "stdout",
     "output_type": "stream",
     "text": [
      "Model: \"model_1\"\n",
      "__________________________________________________________________________________________________\n",
      "Layer (type)                    Output Shape         Param #     Connected to                     \n",
      "==================================================================================================\n",
      "input_1 (InputLayer)            (None, 10, 5)        0                                            \n",
      "__________________________________________________________________________________________________\n",
      "bidirectional_1 (Bidirectional) (None, 10, 200)      84800       input_1[0][0]                    \n",
      "__________________________________________________________________________________________________\n",
      "input_2 (InputLayer)            (None, 33)           0                                            \n",
      "__________________________________________________________________________________________________\n",
      "bidirectional_2 (Bidirectional) (None, 150)          165600      bidirectional_1[0][0]            \n",
      "__________________________________________________________________________________________________\n",
      "masking_1 (Masking)             (None, 33)           0           input_2[0][0]                    \n",
      "__________________________________________________________________________________________________\n",
      "dense_1 (Dense)                 (None, 35)           5285        bidirectional_2[0][0]            \n",
      "__________________________________________________________________________________________________\n",
      "dense_3 (Dense)                 (None, 30)           1020        masking_1[0][0]                  \n",
      "__________________________________________________________________________________________________\n",
      "batch_normalization_1 (BatchNor (None, 35)           140         dense_1[0][0]                    \n",
      "__________________________________________________________________________________________________\n",
      "batch_normalization_3 (BatchNor (None, 30)           120         dense_3[0][0]                    \n",
      "__________________________________________________________________________________________________\n",
      "dense_2 (Dense)                 (None, 15)           540         batch_normalization_1[0][0]      \n",
      "__________________________________________________________________________________________________\n",
      "dense_4 (Dense)                 (None, 15)           465         batch_normalization_3[0][0]      \n",
      "__________________________________________________________________________________________________\n",
      "batch_normalization_2 (BatchNor (None, 15)           60          dense_2[0][0]                    \n",
      "__________________________________________________________________________________________________\n",
      "batch_normalization_4 (BatchNor (None, 15)           60          dense_4[0][0]                    \n",
      "__________________________________________________________________________________________________\n",
      "add_1 (Add)                     (None, 15)           0           batch_normalization_2[0][0]      \n",
      "                                                                 batch_normalization_4[0][0]      \n",
      "__________________________________________________________________________________________________\n",
      "dense_5 (Dense)                 (None, 2)            32          add_1[0][0]                      \n",
      "==================================================================================================\n",
      "Total params: 258,122\n",
      "Trainable params: 257,932\n",
      "Non-trainable params: 190\n",
      "__________________________________________________________________________________________________\n",
      "None\n"
     ]
    }
   ],
   "source": [
    "input1 = Input(shape=(INPUT_SEQ_LEN_MODEL1, INPUT_NUM_CH_MODEL1))\n",
    "model1 = Bidirectional(LSTM(100, kernel_regularizer=l2(0.001), return_sequences=True))(input1)\n",
    "model1 = Bidirectional(LSTM(75, kernel_regularizer=l2(0.001)))(model1)\n",
    "model1 = Dense(35, kernel_regularizer=l2(0.001), activation='relu')(model1)\n",
    "model1 = BatchNormalization()(model1)\n",
    "model1 = Dense(15, kernel_regularizer=l2(0.001), activation='relu')(model1)\n",
    "model1 = BatchNormalization()(model1)\n",
    "\n",
    "input2 = Input(shape=(INPUT_FEATS_MODEL2,))\n",
    "model2 = Masking(mask_value=np.pi)(input2)\n",
    "model2 = Dense(30, kernel_regularizer=l2(0.001), activation='relu')(model2)\n",
    "model2 = BatchNormalization()(model2)\n",
    "model2 = Dense(15, kernel_regularizer=l2(0.001), activation='relu')(model2)\n",
    "model2 = BatchNormalization()(model2)\n",
    "\n",
    "model_add = Add()([model1, model2])\n",
    "output = Dense(2, kernel_regularizer=l2(0.001), activation='softmax')(model_add)\n",
    "\n",
    "model = Model(inputs=[input1, input2], outputs=output)\n",
    "model.compile(loss='categorical_crossentropy', optimizer='adam')\n",
    "print(model.summary())\n"
   ]
  },
  {
   "cell_type": "markdown",
   "metadata": {},
   "source": [
    "Train the model"
   ]
  },
  {
   "cell_type": "code",
   "execution_count": 8,
   "metadata": {
    "scrolled": false
   },
   "outputs": [
    {
     "name": "stdout",
     "output_type": "stream",
     "text": [
      "Train on 776828 samples, validate on 194206 samples\n",
      "Epoch 1/50\n",
      "776828/776828 [==============================] - 292s 375us/step - loss: 1.3216 - val_loss: 0.6175\n",
      "\n",
      "Epoch 00001: val_loss improved from inf to 0.61751, saving model to model.h5\n",
      "Epoch 2/50\n",
      "776828/776828 [==============================] - 292s 376us/step - loss: 1.1951 - val_loss: 0.1373\n",
      "\n",
      "Epoch 00002: val_loss improved from 0.61751 to 0.13727, saving model to model.h5\n",
      "Epoch 3/50\n",
      "776828/776828 [==============================] - 301s 388us/step - loss: 1.1605 - val_loss: 1.0921\n",
      "\n",
      "Epoch 00003: val_loss did not improve from 0.13727\n",
      "Epoch 4/50\n",
      "776828/776828 [==============================] - 299s 384us/step - loss: 1.1537 - val_loss: 0.1961\n",
      "\n",
      "Epoch 00004: val_loss did not improve from 0.13727\n",
      "Epoch 5/50\n",
      "776828/776828 [==============================] - 291s 375us/step - loss: 1.1670 - val_loss: 0.6232\n",
      "\n",
      "Epoch 00005: val_loss did not improve from 0.13727\n",
      "Epoch 6/50\n",
      "776828/776828 [==============================] - 285s 367us/step - loss: 1.1526 - val_loss: 0.6367\n",
      "\n",
      "Epoch 00006: val_loss did not improve from 0.13727\n",
      "Epoch 7/50\n",
      "776828/776828 [==============================] - 290s 373us/step - loss: 1.1507 - val_loss: 0.6730\n",
      "\n",
      "Epoch 00007: val_loss did not improve from 0.13727\n"
     ]
    }
   ],
   "source": [
    "checkpoint = ModelCheckpoint('model.h5', monitor='val_loss', verbose=1, save_best_only=True, mode='auto', period=1)\n",
    "earlystop = EarlyStopping(monitor='val_loss', min_delta=0, patience=5)\n",
    "history = model.fit([X_train_cont, X_train_cat],\n",
    "                    y_train,\n",
    "                    batch_size=BATCH_SIZE,\n",
    "                    epochs=50,\n",
    "                    validation_data=([X_val_cont, X_val_cat], y_val),\n",
    "                    callbacks=[earlystop, checkpoint],\n",
    "                    class_weight=class_weights,\n",
    "                    verbose=1)\n",
    "\n",
    "#save the history\n",
    "pickle.dump(history, open('history.pkl', 'wb'))"
   ]
  },
  {
   "cell_type": "markdown",
   "metadata": {},
   "source": [
    "Plot the training/validation loss"
   ]
  },
  {
   "cell_type": "code",
   "execution_count": 9,
   "metadata": {},
   "outputs": [
    {
     "data": {
      "image/png": "[encoded data removed]",
      "text/plain": [
       "<Figure size 720x432 with 1 Axes>"
      ]
     },
     "metadata": {
      "needs_background": "light"
     },
     "output_type": "display_data"
    }
   ],
   "source": [
    "# Plot training & validation loss values\n",
    "plt.figure(figsize=(10,6))\n",
    "plt.plot(history.history['loss'], '*-')\n",
    "plt.plot(history.history['val_loss'], '*-')\n",
    "plt.title('Model loss')\n",
    "plt.ylabel('Loss')\n",
    "plt.xlabel('Epoch')\n",
    "plt.legend(['Train', 'Validation'], loc='upper left')\n",
    "plt.tight_layout()\n",
    "plt.savefig('plots/loss.png', dpi=250)\n",
    "plt.show()\n",
    "plt.close()\n"
   ]
  },
  {
   "cell_type": "markdown",
   "metadata": {},
   "source": [
    "Evaluate the model on the validation set"
   ]
  },
  {
   "cell_type": "code",
   "execution_count": 10,
   "metadata": {},
   "outputs": [
    {
     "data": {
      "image/png": "[encoded data removed]",
      "text/plain": [
       "<Figure size 720x432 with 1 Axes>"
      ]
     },
     "metadata": {
      "needs_background": "light"
     },
     "output_type": "display_data"
    }
   ],
   "source": [
    "predictions = model.predict([X_val_cont, X_val_cat])\n",
    "\n",
    "results_df, thresh_final = roc(predictions[:,1].flatten(), y_val[:,1].flatten(), 'val')\n",
    "results_df = results_df.sort_values(by='fpr')\n"
   ]
  },
  {
   "cell_type": "markdown",
   "metadata": {},
   "source": [
    "Evaluate the model on the test set"
   ]
  },
  {
   "cell_type": "code",
   "execution_count": 11,
   "metadata": {},
   "outputs": [
    {
     "data": {
      "image/png": "[encoded data removed]",
      "text/plain": [
       "<Figure size 720x432 with 1 Axes>"
      ]
     },
     "metadata": {
      "needs_background": "light"
     },
     "output_type": "display_data"
    }
   ],
   "source": [
    "predictions = model.predict([X_test_cont, X_test_cat])\n",
    "\n",
    "results_df, thresh_final = roc(predictions[:,1].flatten(), y_test[:,1].flatten(), 'test')\n",
    "results_df = results_df.sort_values(by='fpr')\n"
   ]
  }
 ],
 "metadata": {
  "kernelspec": {
   "display_name": "Python 3",
   "language": "python",
   "name": "python3"
  },
  "language_info": {
   "codemirror_mode": {
    "name": "ipython",
    "version": 3
   },
   "file_extension": ".py",
   "mimetype": "text/x-python",
   "name": "python",
   "nbconvert_exporter": "python",
   "pygments_lexer": "ipython3",
   "version": "3.7.6"
  }
 },
 "nbformat": 4,
 "nbformat_minor": 4
}
