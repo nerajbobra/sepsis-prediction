{
 "cells": [
  {
   "cell_type": "markdown",
   "metadata": {},
   "source": [
    "## PSV to DF\n",
    "\n",
    "This notebook loads each PSV file from the Physionet database and concatenates all the records into a single dataframe object. Note that a new patient ID row is created, which is based on the filename. This enables downstream analysis to distinguish between subjects.\n",
    "\n",
    "The expected file format is a folder called \"training_setA\" and \"training_setB\" which each contain 20000 files. Running this script is optional as the final dataframe has been uploaded to google drive and is automatically downloaded in the feature_engineering notebook"
   ]
  },
  {
   "cell_type": "markdown",
   "metadata": {},
   "source": [
    "Import libraries"
   ]
  },
  {
   "cell_type": "code",
   "execution_count": 1,
   "metadata": {},
   "outputs": [],
   "source": [
    "import pandas as pd\n",
    "import pdb\n",
    "import numpy as np\n",
    "import glob"
   ]
  },
  {
   "cell_type": "code",
   "execution_count": 3,
   "metadata": {},
   "outputs": [
    {
     "name": "stdout",
     "output_type": "stream",
     "text": [
      "0\n",
      "1000\n",
      "2000\n",
      "3000\n",
      "4000\n",
      "5000\n",
      "6000\n",
      "7000\n",
      "8000\n",
      "9000\n",
      "10000\n",
      "11000\n",
      "12000\n",
      "13000\n",
      "14000\n",
      "15000\n",
      "16000\n",
      "17000\n",
      "18000\n",
      "19000\n",
      "20000\n",
      "21000\n",
      "22000\n",
      "23000\n",
      "24000\n",
      "25000\n",
      "26000\n",
      "27000\n",
      "28000\n",
      "29000\n",
      "30000\n",
      "31000\n",
      "32000\n",
      "33000\n",
      "34000\n",
      "35000\n",
      "36000\n",
      "37000\n",
      "38000\n",
      "39000\n",
      "40000\n"
     ]
    }
   ],
   "source": [
    "#get a list of all the files\n",
    "files1 = glob.glob('training_setA/*.psv')\n",
    "files2 = glob.glob('training_setB/*.psv')\n",
    "files = np.concatenate((files1, files2))\n",
    "\n",
    "df_list = []\n",
    "for ind, f in enumerate(files):\n",
    "    patient_id = f.split('/')[1].split('.')[0]\n",
    "    df = pd.read_csv(f, sep='|')\n",
    "    df = df.assign(patient=patient_id)\n",
    "\n",
    "    #redefine the labels to be 1 for t >= t_sepsis\n",
    "    #in other words, a label of 1 now means that sepsis has occurred in this window\n",
    "    #in practice, what this means is set the first six 1 labels to 0\n",
    "    df.loc[df[df['SepsisLabel'] == 1].head(6).index.values, 'SepsisLabel'] = 1\n",
    "    \n",
    "    #print a status update\n",
    "    if ind % 1000 == 0:\n",
    "        print(ind)\n",
    "    \n",
    "    #append the current parsed file to the list \n",
    "    df_list.append(df)\n",
    "\n",
    "\n",
    "#save all the loaded files into a pickle file\n",
    "df = pd.concat(df_list)\n",
    "df = df.reset_index(drop=True)\n",
    "df.to_pickle('combined.pkl')\n"
   ]
  }
 ],
 "metadata": {
  "kernelspec": {
   "display_name": "Python 3",
   "language": "python",
   "name": "python3"
  },
  "language_info": {
   "codemirror_mode": {
    "name": "ipython",
    "version": 3
   },
   "file_extension": ".py",
   "mimetype": "text/x-python",
   "name": "python",
   "nbconvert_exporter": "python",
   "pygments_lexer": "ipython3",
   "version": "3.7.6"
  }
 },
 "nbformat": 4,
 "nbformat_minor": 4
}
